{
 "cells": [
  {
   "cell_type": "markdown",
   "id": "fd5db1eb-d8e2-4d24-a429-3f1425d95c62",
   "metadata": {
    "id": "fd5db1eb-d8e2-4d24-a429-3f1425d95c62",
    "pycharm": {
     "name": "#%% md\n"
    },
    "tags": []
   },
   "source": [
    "# COE 292 - Spring 2023\n",
    "## Programming Assignmnet 1\n",
    "____________"
   ]
  },
  {
   "cell_type": "markdown",
   "id": "fd578f62-8fb6-4d4f-89f6-eff1916e16d6",
   "metadata": {
    "id": "fd578f62-8fb6-4d4f-89f6-eff1916e16d6",
    "pycharm": {
     "name": "#%% md\n"
    },
    "tags": []
   },
   "source": [
    "### READ THESE INSTRUCTIONS CAREFULLY\n",
    "- Your submission is **auto-graded** and checked for **similarity**. \n",
    "- Detected similarity and/or failure to follow these instructions automatically results in a **ZERO** score.\n",
    "- The assignment is to be completed **individually**.\n",
    "- Complete the functions marked below by <span style=\"color:green\">*## YOUR CODE HERE*</span>. Do not change anything else, as this may break the entire code and result in getting a **ZERO** score.\n",
    "- You are **NOT** allowed to use any machine learning packages such as scikit-learn. You may, however, add additional code blocks that you think necessary. \n",
    "- <span style=\"color:red\">**DO NOT CHNAGE THE NAME OF THIS FILE**</span>. The submitted file **MUST** be named **\"knn.ipynb\"**.\n",
    "- When you submit your code, your score (out of 20) shows immediately. You can resubmit as many time as you wish to improve your score.\n",
    "---"
   ]
  },
  {
   "cell_type": "markdown",
   "id": "12746864-be88-4e48-9545-7ae5e53f6e50",
   "metadata": {
    "id": "12746864-be88-4e48-9545-7ae5e53f6e50",
    "pycharm": {
     "name": "#%% md\n"
    },
    "tags": []
   },
   "source": [
    "## k-NN Algorithm\n",
    "- **20 points**\n",
    "- **Due Saturday, March 11, 11:59 pm**\n",
    "\n",
    "### Overview\n",
    "k-NN is a supervised machine learning algorithm that can be used for classification. The algorithm perfoms classification based on *similarity* using a **distance measure**. \n",
    "\n",
    "In this programming assignment, you are required to implement the k-NN algorithm from **scratch**, using the following distance measures:  \n",
    "\n",
    "- **Euclidean distance:** Given two vectors $x = <x_1, x_2, .., x_n>$, and $y = <y_1, y_2, .., y_n>$, the Euclidean distance, $d(x, y)$, is defined as\n",
    "\n",
    "$$d(x, y) = \\sqrt{\\sum_{i=1}^{N}({y_i}-{x_i})^2}$$\n",
    "\n",
    "- **Manhattan Distance:** Given two vectors $x = <x_1, x_2, .., x_n>$, and $y = <y_1, y_2, .., y_n>$, the Manhattan distance is defined as\n",
    "\n",
    "$$d(x, y) = \\sum_{i=1}^{N}|y_i - x_i|$$\n",
    "\n",
    "---"
   ]
  },
  {
   "cell_type": "markdown",
   "id": "59142b1f-32ef-4b4c-9e47-729efa746b36",
   "metadata": {
    "id": "59142b1f-32ef-4b4c-9e47-729efa746b36",
    "pycharm": {
     "name": "#%% md\n"
    }
   },
   "source": [
    "### Toy training and test data"
   ]
  },
  {
   "cell_type": "code",
   "execution_count": 1,
   "id": "bb8b41bb-bea1-4a99-9eb8-7213c7214a9f",
   "metadata": {
    "id": "bb8b41bb-bea1-4a99-9eb8-7213c7214a9f",
    "pycharm": {
     "is_executing": true,
     "name": "#%%\n"
    },
    "tags": []
   },
   "outputs": [
    {
     "data": {
      "image/png": "[encoded data removed]",
      "text/plain": [
       "<Figure size 432x288 with 1 Axes>"
      ]
     },
     "metadata": {
      "needs_background": "light"
     },
     "output_type": "display_data"
    }
   ],
   "source": [
    "# DO NOT CHNAGE THIS CELL\n",
    "\n",
    "# training and test data \n",
    "data = [[2.0,4.0,1],\n",
    "        [3.0,5.0,1],\n",
    "        [1.0,3.0,1],\n",
    "        [3.0,3.0,1],\n",
    "        [3.0,1.0,1],\n",
    "        [1.0,1.0,0],\n",
    "        [5.0,3.0,0],\n",
    "        [4.0,4.0,0],\n",
    "        [4.0,6.0,0],\n",
    "        [5.0,5.0,0]]\n",
    "test_data = [3.5,3.0]\n",
    "\n",
    "# plotting the data\n",
    "import matplotlib.pyplot as plt\n",
    "b_x, b_y = [d[0] for d in data if d[2] == 1], [d[1] for d in data if d[2] == 1]\n",
    "r_x, r_y = [d[0] for d in data if d[2] == 0], [d[1] for d in data if d[2] == 0]\n",
    "plt.plot(b_x,b_y,'bo',label='Class 1')\n",
    "plt.plot(r_x,r_y,'ro',label='Class 0')\n",
    "plt.plot(test_data[0],test_data[1],'kx',label='Uknown')\n",
    "plt.grid(True, linestyle='dashed', linewidth=0.5)\n",
    "plt.axis([0.0,7.0,0.0,7.0])\n",
    "plt.xlabel('x1')\n",
    "plt.ylabel('x2')\n",
    "plt.legend()\n",
    "plt.show(block=False)"
   ]
  },
  {
   "cell_type": "markdown",
   "id": "b04f4e09-1b13-4385-ad9b-eed823a0af5e",
   "metadata": {
    "id": "b04f4e09-1b13-4385-ad9b-eed823a0af5e",
    "pycharm": {
     "name": "#%% md\n"
    }
   },
   "source": [
    "### Euclidean Distance\n",
    "#### <span style=\"color:green\">*Complete the following code block*</span>"
   ]
  },
  {
   "cell_type": "code",
   "execution_count": 19,
   "id": "93f02a66-5f8c-4cbf-804e-371293678ff9",
   "metadata": {
    "id": "93f02a66-5f8c-4cbf-804e-371293678ff9",
    "pycharm": {
     "name": "#%%\n"
    },
    "tags": []
   },
   "outputs": [],
   "source": [
    "from math import *\n",
    "def e_dist(x, y):\n",
    "    '''\n",
    "    Compute the Euclidean distance between two vectors x and y\n",
    "    \n",
    "    Arguments:\n",
    "        x,y     : two vectors stored as lists\n",
    "    \n",
    "    return:\n",
    "        dist    : Euclidean distance between the two vectors x and y\n",
    "    '''\n",
    "    ## YOUR CODE HERE\n",
    "    summation = 0\n",
    "    for i in range(len(x)):\n",
    "        summation += (x[i] - y[i])**2\n",
    "    distance = sqrt(summation)\n",
    "    return distance"
   ]
  },
  {
   "cell_type": "markdown",
   "id": "dc7db5f3-c7e4-4c3d-b0f3-85c86c9d6fb1",
   "metadata": {
    "id": "dc7db5f3-c7e4-4c3d-b0f3-85c86c9d6fb1",
    "pycharm": {
     "name": "#%% md\n"
    }
   },
   "source": [
    "### Manhattan Distance\n",
    "#### <span style=\"color:green\">*Complete the following code block*</span>"
   ]
  },
  {
   "cell_type": "code",
   "execution_count": 20,
   "id": "6c28d96f-751b-4af4-bdc7-a214a68b2b03",
   "metadata": {
    "id": "6c28d96f-751b-4af4-bdc7-a214a68b2b03",
    "pycharm": {
     "name": "#%%\n"
    }
   },
   "outputs": [],
   "source": [
    "def m_dist(x, y):\n",
    "    '''\n",
    "    Compute the Manhattan distance between two vectors x and y\n",
    "    \n",
    "    Arguments:\n",
    "        x,y     : two vectors stored as lists\n",
    "    \n",
    "    return:\n",
    "        dist    : Manhattan distance between the two vectors x and y\n",
    "    '''\n",
    "    ## YOUR CODE HERE\n",
    "    summation = 0\n",
    "    for i in range(len(x)):\n",
    "        summation += abs(x[i] - y[i])\n",
    "    return summation"
   ]
  },
  {
   "cell_type": "markdown",
   "id": "948fbd21-312a-41bb-83bd-b268a424bbdd",
   "metadata": {
    "id": "948fbd21-312a-41bb-83bd-b268a424bbdd",
    "pycharm": {
     "name": "#%% md\n"
    }
   },
   "source": [
    "### k-NN Algorithm\n",
    "#### <span style=\"color:green\">*Complete the following code block*</span>"
   ]
  },
  {
   "cell_type": "code",
   "execution_count": 43,
   "id": "7fc59b4b-96b7-4b7e-b4a3-3955c7d38853",
   "metadata": {
    "id": "7fc59b4b-96b7-4b7e-b4a3-3955c7d38853",
    "pycharm": {
     "name": "#%%\n"
    }
   },
   "outputs": [],
   "source": [
    "def knn(data, u, k, dist_fun=e_dist):\n",
    "    '''\n",
    "    Predict the class of a given vector u based on the labels of its \n",
    "    k nearest neighbors in the given data.\n",
    "    \n",
    "    Arguments:\n",
    "        data     : The training samples stored as a list of lists: \n",
    "                   [[x00,x01,..,y0],[x10,x10,..,y1],..], where xij is the jth feature \n",
    "                   from the ith data point while yi is its actual label (0 or 1)\n",
    "        u        : A new vector with unknow label. It is stored as a list.\n",
    "        k        : Number of neighbors\n",
    "        dist_fun : function to compute the distances (default Euclidean distance e_dist)\n",
    "\n",
    "    return:\n",
    "        label: predicated label (0 or 1)\n",
    "    '''\n",
    "    ## YOUR CODE HERE\n",
    "    distances = []\n",
    "    indexes = []\n",
    "    zerosCounter = 0\n",
    "    onesCounter = 0\n",
    "    for i in data:\n",
    "        distances.append(dist_fun(i[:-1],u))\n",
    "        \n",
    "    for i in range(k):\n",
    "        minimum = min(distances)\n",
    "        indexes.append(distances.index(minimum))\n",
    "        distances.remove(minimum)\n",
    "        \n",
    "    for i in indexes:\n",
    "        if data[i][-1] == 1:\n",
    "            onesCounter += 1\n",
    "        else:\n",
    "            zerosCounter += 1\n",
    "    if onesCounter > zerosCounter:\n",
    "        return 1\n",
    "    else:\n",
    "        return 0  "
   ]
  },
  {
   "cell_type": "markdown",
   "id": "aa834664-e339-457f-bedc-54727a8be1fa",
   "metadata": {
    "id": "aa834664-e339-457f-bedc-54727a8be1fa",
    "pycharm": {
     "name": "#%% md\n"
    },
    "tags": []
   },
   "source": [
    "### Running the knn function for k = 1,3,5, and 7 using the two distance functions"
   ]
  },
  {
   "cell_type": "code",
   "execution_count": 42,
   "id": "83f243b1-0832-48d7-b204-de6da8acc7f1",
   "metadata": {
    "id": "83f243b1-0832-48d7-b204-de6da8acc7f1",
    "pycharm": {
     "name": "#%%\n"
    },
    "tags": []
   },
   "outputs": [
    {
     "name": "stdout",
     "output_type": "stream",
     "text": [
      "k\tClass[Euc]\tClass[Man]\n",
      "----------------------------------\n",
      "1 \t   1 \t\t   1\n",
      "3 \t   0 \t\t   0\n",
      "5 \t   1 \t\t   1\n",
      "7 \t   1 \t\t   1\n"
     ]
    }
   ],
   "source": [
    "# DO NOT CHNAGE THIS CELL\n",
    "\n",
    "print('k\\tClass[Euc]\\tClass[Man]')\n",
    "print('----------------------------------')\n",
    "for k in [1,3,5,7]:\n",
    "    print(k,'\\t  ', knn(data, test_data, k),'\\t\\t  ',knn(data, test_data, k,m_dist))"
   ]
  }
 ],
 "metadata": {
  "colab": {
   "provenance": []
  },
  "kernelspec": {
   "display_name": "Python 3 (ipykernel)",
   "language": "python",
   "name": "python3"
  },
  "language_info": {
   "codemirror_mode": {
    "name": "ipython",
    "version": 3
   },
   "file_extension": ".py",
   "mimetype": "text/x-python",
   "name": "python",
   "nbconvert_exporter": "python",
   "pygments_lexer": "ipython3",
   "version": "3.9.7"
  },
  "toc": {
   "base_numbering": 1,
   "nav_menu": {},
   "number_sections": true,
   "sideBar": true,
   "skip_h1_title": false,
   "title_cell": "Table of Contents",
   "title_sidebar": "Contents",
   "toc_cell": false,
   "toc_position": {},
   "toc_section_display": true,
   "toc_window_display": false
  }
 },
 "nbformat": 4,
 "nbformat_minor": 5
}
